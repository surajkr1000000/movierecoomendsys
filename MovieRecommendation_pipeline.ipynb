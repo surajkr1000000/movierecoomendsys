{
 "cells": [
  {
   "cell_type": "markdown",
   "metadata": {
    "application/vnd.databricks.v1+cell": {
     "cellMetadata": {
      "byteLimit": 2048000,
      "rowLimit": 10000
     },
     "inputWidgets": {},
     "nuid": "d0b1b40c-b4fc-4225-b329-0835be1f44a5",
     "showTitle": false,
     "title": ""
    }
   },
   "source": [
    "#connection with azure blob storage"
   ]
  },
  {
   "cell_type": "code",
   "execution_count": 0,
   "metadata": {
    "application/vnd.databricks.v1+cell": {
     "cellMetadata": {
      "byteLimit": 2048000,
      "rowLimit": 10000
     },
     "inputWidgets": {},
     "nuid": "c37380ee-3ea8-4ced-a4a4-c2b889c9d386",
     "showTitle": false,
     "title": ""
    }
   },
   "outputs": [],
   "source": [
    "#storageAccount = \"movieStorageAcc\"\n",
    "#storageContainer = \"movieStorageContainer\"\n",
    "#storage_account_key = \"moviestorageAccKey\"\n",
    "\n",
    "#dbutils.fs.mount(source = f\"wasbs://{storageContainer}@{storageAccount}.blob.core.windows.net/\",\n",
    "#                mount_point = \"/mnt/rawStore\",\n",
    "#                extra_configs = {f\"fs.azure.account.key.{storageAccount}.blob.core.windows.net\":storage_account_key})"
   ]
  },
  {
   "cell_type": "code",
   "execution_count": 0,
   "metadata": {
    "application/vnd.databricks.v1+cell": {
     "cellMetadata": {
      "byteLimit": 2048000,
      "rowLimit": 10000
     },
     "inputWidgets": {},
     "nuid": "4df799a9-924a-424f-a5b5-5935355af382",
     "showTitle": false,
     "title": ""
    }
   },
   "outputs": [],
   "source": [
    "# Accessing the file path\n",
    "display(dbutils.fs.ls(\"/mnt/rawStore/RawData\"))"
   ]
  },
  {
   "cell_type": "code",
   "execution_count": 0,
   "metadata": {
    "application/vnd.databricks.v1+cell": {
     "cellMetadata": {
      "byteLimit": 2048000,
      "rowLimit": 10000
     },
     "inputWidgets": {},
     "nuid": "745d2ff1-91f5-4cfe-9ed2-0802c612aede",
     "showTitle": false,
     "title": ""
    }
   },
   "outputs": [],
   "source": [
    "# JDBC Connection\n",
    "\n",
    "jdbcHostName = \"jdbchostname\"\n",
    "jdbcPort = 1433\n",
    "jdbcDatabaseName = \"databaseName\"\n",
    "jdbcUserName = \"userName\"\n",
    "jdbcPassword = \"jdbcPass\"\n",
    "jdbcDriver = \"jdbcDriver\"\n",
    "\n",
    "jdbcUrl = f\"jdbc:sqlserver://{jdbcHostName}:{jdbcPort};databaseName={jdbcDatabaseName};user={jdbcUserName};password={jdbcPassword}\""
   ]
  },
  {
   "cell_type": "code",
   "execution_count": 0,
   "metadata": {
    "application/vnd.databricks.v1+cell": {
     "cellMetadata": {
      "byteLimit": 2048000,
      "rowLimit": 10000
     },
     "inputWidgets": {},
     "nuid": "beb4effd-7f8a-41e4-9ae8-fc844032fb1d",
     "showTitle": false,
     "title": ""
    }
   },
   "outputs": [],
   "source": [
    "import pyspark.sql.functions as f\n",
    "from pyspark.sql.types import *"
   ]
  },
  {
   "cell_type": "code",
   "execution_count": 0,
   "metadata": {
    "application/vnd.databricks.v1+cell": {
     "cellMetadata": {
      "byteLimit": 2048000,
      "rowLimit": 10000
     },
     "inputWidgets": {},
     "nuid": "84c29842-5be1-4b45-8267-135c7189f2ef",
     "showTitle": false,
     "title": ""
    }
   },
   "outputs": [],
   "source": [
    "# define the schema for movie\n",
    "movie_schm = StructType([StructField(\"movieId\", IntegerType(), True),\n",
    "                        StructField(\"title\", StringType(), True),\n",
    "                        StructField(\"genres\", StringType(), True)])"
   ]
  },
  {
   "cell_type": "code",
   "execution_count": 0,
   "metadata": {
    "application/vnd.databricks.v1+cell": {
     "cellMetadata": {
      "byteLimit": 2048000,
      "rowLimit": 10000
     },
     "inputWidgets": {},
     "nuid": "b1afd733-cbb9-4bfb-b5b6-464253334e02",
     "showTitle": false,
     "title": ""
    }
   },
   "outputs": [],
   "source": [
    "# creating movie data frame\n",
    "movie_df = spark.read.format(\"csv\").option(\"header\", True).schema(movie_schm).load(\"/mnt/rawStore/RawData/movies.csv\")\n",
    "display(movie_df)"
   ]
  },
  {
   "cell_type": "code",
   "execution_count": 0,
   "metadata": {
    "application/vnd.databricks.v1+cell": {
     "cellMetadata": {
      "byteLimit": 2048000,
      "rowLimit": 10000
     },
     "inputWidgets": {},
     "nuid": "3a98122c-6990-4767-90be-e4d0191b9b45",
     "showTitle": false,
     "title": ""
    }
   },
   "outputs": [],
   "source": [
    "# define Schema for ratings\n",
    "rating_schm = StructType([StructField(\"userId\", IntegerType(), True),\n",
    "                          StructField(\"movieId\", IntegerType(), True),\n",
    "                          StructField(\"rating\", FloatType(), True),\n",
    "                          StructField(\"timestamp\", StringType(), True)])"
   ]
  },
  {
   "cell_type": "code",
   "execution_count": 0,
   "metadata": {
    "application/vnd.databricks.v1+cell": {
     "cellMetadata": {
      "byteLimit": 2048000,
      "rowLimit": 10000
     },
     "inputWidgets": {},
     "nuid": "0f8353fa-9e3a-4c33-9e6e-4bcae00ed7e3",
     "showTitle": false,
     "title": ""
    }
   },
   "outputs": [],
   "source": [
    "# create dataframe for rating as per schema\n",
    "rating_df = spark.read.format(\"csv\").option(\"header\", True).schema(rating_schm).load(\"/mnt/rawStore/RawData/ratings.csv\")\n",
    "rating_df.show(5)"
   ]
  },
  {
   "cell_type": "code",
   "execution_count": 0,
   "metadata": {
    "application/vnd.databricks.v1+cell": {
     "cellMetadata": {
      "byteLimit": 2048000,
      "rowLimit": 10000
     },
     "inputWidgets": {},
     "nuid": "5c28669a-451c-4f37-8e46-abe4b28cb040",
     "showTitle": false,
     "title": ""
    }
   },
   "outputs": [],
   "source": [
    "# udf function to extract title without year\n",
    "getTitle = f.udf(lambda x: x.split(\" (\")[0], StringType())\n",
    "\n",
    "\n",
    "#using udf to extract tile and year\n",
    "movie_df = movie_df.withColumn(\"title_mod\", getTitle(\"title\")).withColumn(\"year\", f.regexp_extract('title', r\"\\((\\d{4})\\)\", 1))\n",
    "# refined movie data\n",
    "movie_df_refined = movie_df.select(\"movieId\", f.col(\"title_mod\").alias(\"title\"), \"year\", \"genres\")\n",
    "\n",
    "# seggregated genre\n",
    "genres_segg = movie_df_refined.withColumn(\"genre\", f.explode(f.split(\"genres\", \"\\|\"))).drop(\"genres\")\n",
    "display(genres_segg)"
   ]
  },
  {
   "cell_type": "code",
   "execution_count": 0,
   "metadata": {
    "application/vnd.databricks.v1+cell": {
     "cellMetadata": {
      "byteLimit": 2048000,
      "rowLimit": 10000
     },
     "inputWidgets": {},
     "nuid": "ab0aa2c3-9865-49c3-bfc4-7330b8f90ed6",
     "showTitle": false,
     "title": ""
    }
   },
   "outputs": [],
   "source": [
    "# to check if there is any null values in column\n",
    "null_counts = rating_df.agg(*[\n",
    "    f.sum(f.col(column).isNull().cast(\"integer\")).alias(column)\n",
    "    for column in rating_df.columns\n",
    "])\n",
    "null_counts.show()"
   ]
  },
  {
   "cell_type": "code",
   "execution_count": 0,
   "metadata": {
    "application/vnd.databricks.v1+cell": {
     "cellMetadata": {
      "byteLimit": 2048000,
      "rowLimit": 10000
     },
     "inputWidgets": {},
     "nuid": "6ede1f08-e360-432c-a11d-eec7e39b7951",
     "showTitle": false,
     "title": ""
    }
   },
   "outputs": [],
   "source": [
    "# write refined movie data and rating data to JDBC\n",
    "\n",
    "#movie_df_refined.write.format(\"jdbc\").options(url = jdbcUrl, dbtable = \"dbo.movies\").mode(\"append\").save()\n",
    "# rating_df.write.format(\"jdbc\").options(url = jdbcUrl, dbtable = \"dbo.ratings\").mode(\"append\").save()"
   ]
  },
  {
   "cell_type": "code",
   "execution_count": 0,
   "metadata": {
    "application/vnd.databricks.v1+cell": {
     "cellMetadata": {
      "byteLimit": 2048000,
      "rowLimit": 10000
     },
     "inputWidgets": {},
     "nuid": "2d8c5c30-dcd5-463c-8489-01cfba84fcbc",
     "showTitle": false,
     "title": ""
    }
   },
   "outputs": [],
   "source": [
    "# create dataframe using JDBC table\n",
    "\n",
    "moviedfJdbc = spark.read.format(\"jdbc\").option(\"url\", jdbcUrl).option(\"dbtable\", \"dbo.movies\").load()\n",
    "moviedfJdbc.show()"
   ]
  },
  {
   "cell_type": "code",
   "execution_count": 0,
   "metadata": {
    "application/vnd.databricks.v1+cell": {
     "cellMetadata": {
      "byteLimit": 2048000,
      "rowLimit": 10000
     },
     "inputWidgets": {},
     "nuid": "e294fd54-18e7-459b-ad6a-31ac25f307af",
     "showTitle": false,
     "title": ""
    }
   },
   "outputs": [],
   "source": [
    "# get average rating as per movies\n",
    "\n",
    "av_ratings_df = rating_df.groupBy(\"movieId\").agg(f.avg(\"rating\").alias(\"avg_rating\"))\n",
    "av_ratings_df.show()"
   ]
  },
  {
   "cell_type": "code",
   "execution_count": 0,
   "metadata": {
    "application/vnd.databricks.v1+cell": {
     "cellMetadata": {
      "byteLimit": 2048000,
      "rowLimit": 10000
     },
     "inputWidgets": {},
     "nuid": "33881ef1-3bb4-4b04-b6ec-8797e63f10d2",
     "showTitle": false,
     "title": ""
    }
   },
   "outputs": [],
   "source": [
    "# get top rated movies\n",
    "\n",
    "moviesWithRating = movie_df_refined.join(av_ratings_df, movie_df_refined[\"movieId\"] == av_ratings_df[\"movieId\"], \"inner\").orderBy(f.col(\"avg_rating\").desc()).drop(av_ratings_df[\"movieId\"])\n",
    "moviesWithRating.show()"
   ]
  },
  {
   "cell_type": "code",
   "execution_count": 0,
   "metadata": {
    "application/vnd.databricks.v1+cell": {
     "cellMetadata": {
      "byteLimit": 2048000,
      "rowLimit": 10000
     },
     "inputWidgets": {},
     "nuid": "cd10de34-d71f-4ea6-8085-ea129d683838",
     "showTitle": false,
     "title": ""
    }
   },
   "outputs": [],
   "source": [
    "# get top rated genre\n",
    "\n",
    "ratingAsPerGenre = genres_segg.join(rating_df, rating_df[\"movieId\"] == genres_segg[\"movieId\"]).drop(rating_df[\"movieId\"])\n",
    "av_rating_pergenre = ratingAsPerGenre.groupBy(\"genre\").agg(f.avg(\"rating\").alias(\"rating\")).orderBy(f.col(\"rating\").desc())\n",
    "display(av_rating_pergenre)"
   ]
  },
  {
   "cell_type": "code",
   "execution_count": 0,
   "metadata": {
    "application/vnd.databricks.v1+cell": {
     "cellMetadata": {
      "byteLimit": 2048000,
      "rowLimit": 10000
     },
     "inputWidgets": {},
     "nuid": "0f634efe-d8e4-4daa-a3c5-3280a6d7d718",
     "showTitle": false,
     "title": ""
    }
   },
   "outputs": [],
   "source": [
    "# Get user ratings for a specific user\n",
    "user_id = 100\n",
    "user_ratings = rating_df.filter(f.col(\"userId\") == user_id)\n",
    "user_ratings.show()"
   ]
  },
  {
   "cell_type": "code",
   "execution_count": 0,
   "metadata": {
    "application/vnd.databricks.v1+cell": {
     "cellMetadata": {
      "byteLimit": 2048000,
      "rowLimit": 10000
     },
     "inputWidgets": {},
     "nuid": "455fd814-4732-4a41-a254-366b186cfff0",
     "showTitle": false,
     "title": ""
    }
   },
   "outputs": [],
   "source": [
    "# Join user ratings with movie titles\n",
    "user_ratings_acc_movies = user_ratings.join(movie_df_refined, movie_df_refined[\"movieId\"] == user_ratings[\"movieId\"]).drop(user_ratings[\"movieId\"], \"inner\")\n",
    "# sort the user by rating in desc order\n",
    "sorted_user_ratings = user_ratings_acc_movies.orderBy(f.col(\"rating\").desc())\n",
    "# display the user most rated movies\n",
    "display(sorted_user_ratings)"
   ]
  },
  {
   "cell_type": "code",
   "execution_count": 0,
   "metadata": {
    "application/vnd.databricks.v1+cell": {
     "cellMetadata": {
      "byteLimit": 2048000,
      "rowLimit": 10000
     },
     "inputWidgets": {},
     "nuid": "cfacf8c6-ab24-4881-8723-1800d642986c",
     "showTitle": false,
     "title": ""
    }
   },
   "outputs": [],
   "source": [
    "# join user rating acc to genre\n",
    "user_rating_acc_genre = user_ratings.join(genres_segg, user_ratings[\"movieId\"] == genres_segg[\"movieId\"], \"inner\").drop(user_ratings[\"movieId\"])\n",
    "grp_acc_genre = user_rating_acc_genre.groupBy(\"genre\", \"userId\").agg(f.avg(\"rating\").alias(\"rating\"))\n",
    "# sort the user by rating in desc order\n",
    "sorted_rating_acc_genre = grp_acc_genre.select(\"userId\", \"genre\", \"rating\").orderBy(f.col(\"rating\").desc())\n",
    "# display rating as per genre\n",
    "display(sorted_rating_acc_genre)"
   ]
  },
  {
   "cell_type": "code",
   "execution_count": 0,
   "metadata": {
    "application/vnd.databricks.v1+cell": {
     "cellMetadata": {
      "byteLimit": 2048000,
      "rowLimit": 10000
     },
     "inputWidgets": {},
     "nuid": "f1901279-f6ea-4c6e-84c5-5aa6fb885276",
     "showTitle": false,
     "title": ""
    }
   },
   "outputs": [],
   "source": []
  }
 ],
 "metadata": {
  "application/vnd.databricks.v1+notebook": {
   "dashboards": [],
   "language": "python",
   "notebookMetadata": {
    "mostRecentlyExecutedCommandWithImplicitDF": {
     "commandId": 3820599478487972,
     "dataframes": [
      "_sqldf"
     ]
    },
    "pythonIndentUnit": 4
   },
   "notebookName": "MovieRecommendation_pipeline",
   "widgets": {}
  }
 },
 "nbformat": 4,
 "nbformat_minor": 0
}
